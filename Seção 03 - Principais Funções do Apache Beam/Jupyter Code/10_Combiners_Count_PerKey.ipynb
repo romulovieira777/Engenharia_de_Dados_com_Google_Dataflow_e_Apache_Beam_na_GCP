{
  "nbformat": 4,
  "nbformat_minor": 0,
  "metadata": {
    "colab": {
      "name": "10 - Combiners.Count.PerKey.ipynb",
      "provenance": []
    },
    "kernelspec": {
      "name": "python3",
      "display_name": "Python 3"
    },
    "language_info": {
      "name": "python"
    }
  },
  "cells": [
    {
      "cell_type": "code",
      "metadata": {
        "id": "Zk7JG39rAqOl"
      },
      "source": [
        "pip install apache-beam[interactive]"
      ],
      "execution_count": null,
      "outputs": []
    },
    {
      "cell_type": "code",
      "metadata": {
        "colab": {
          "base_uri": "https://localhost:8080/"
        },
        "id": "WeiLpReGDz4G",
        "outputId": "6ae1a352-a897-412e-996e-cd18f4cbcd88"
      },
      "source": [
        "import apache_beam as beam\n",
        "\n",
        "p1 = beam.Pipeline()\n",
        "\n",
        "Qtd_Atrasos = (\n",
        "    p1\n",
        "    | \"Importar Dados\" >> beam.io.ReadFromText(\"voos_sample.csv\", skip_header_lines = 1)\n",
        "    | \"Separar por Vírgulas\" >> beam.Map(lambda record: record.split(','))\n",
        "    | \"Pegar voos de Los Angeles\" >> beam.Filter(lambda record: int(record[8]) > 0 )\n",
        "    | \"Criar par\" >> beam.Map(lambda record: (record[4],int(record[8])))\n",
        "    | \"Contar por key\" >> beam.combiners.Count.PerKey()\n",
        "    | \"Mostrar Resultados\" >> beam.Map(print)\n",
        ")\n",
        "\n",
        "p1.run()"
      ],
      "execution_count": 15,
      "outputs": [
        {
          "output_type": "stream",
          "name": "stderr",
          "text": [
            "WARNING:root:Make sure that locally built Python SDK docker image has Python 3.7 interpreter.\n"
          ]
        },
        {
          "output_type": "stream",
          "name": "stdout",
          "text": [
            "('LAX', 4)\n",
            "('HNL', 1)\n",
            "('DFW', 1)\n",
            "('OGG', 1)\n",
            "('JFK', 4)\n"
          ]
        },
        {
          "output_type": "execute_result",
          "data": {
            "text/plain": [
              "<apache_beam.runners.portability.fn_api_runner.fn_runner.RunnerResult at 0x7f0b388ffad0>"
            ]
          },
          "metadata": {},
          "execution_count": 15
        }
      ]
    }
  ]
}