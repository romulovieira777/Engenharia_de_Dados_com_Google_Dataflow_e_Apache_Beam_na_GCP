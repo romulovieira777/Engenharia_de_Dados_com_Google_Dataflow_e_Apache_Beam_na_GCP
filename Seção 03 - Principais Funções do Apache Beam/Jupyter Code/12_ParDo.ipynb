{
  "nbformat": 4,
  "nbformat_minor": 0,
  "metadata": {
    "colab": {
      "name": "12 - ParDo.ipynb",
      "provenance": []
    },
    "kernelspec": {
      "name": "python3",
      "display_name": "Python 3"
    },
    "language_info": {
      "name": "python"
    }
  },
  "cells": [
    {
      "cell_type": "code",
      "metadata": {
        "id": "Zk7JG39rAqOl"
      },
      "source": [
        "pip install apache-beam[interactive]"
      ],
      "execution_count": null,
      "outputs": []
    },
    {
      "cell_type": "code",
      "metadata": {
        "colab": {
          "base_uri": "https://localhost:8080/"
        },
        "id": "WeiLpReGDz4G",
        "outputId": "7564027c-50e6-43af-cff0-203e6681dd40"
      },
      "source": [
        "import apache_beam as beam\n",
        "\n",
        "p1 = beam.Pipeline()\n",
        "\n",
        "class filtro(beam.DoFn):\n",
        "  def process(self, record):\n",
        "    if int(record[8]) > 0:\n",
        "      return [record]\n",
        "\n",
        "Tempo_Atrasos = (\n",
        "  p1\n",
        "  | \"Importar Dados Atraso\" >> beam.io.ReadFromText(\"voos_sample.csv\", skip_header_lines = 1)\n",
        "  | \"Separar por Vírgulas Atraso\" >> beam.Map(lambda record: record.split(','))\n",
        "  | \"Pegar voos com atraso\" >> beam.ParDo(filtro())\n",
        "  | \"Criar par atraso\" >> beam.Map(lambda record: (record[4],int(record[8])))\n",
        "  | \"Somar por key\" >> beam.CombinePerKey(sum)\n",
        "#  | \"Mostrar Resultados\" >> beam.Map(print)\n",
        ")\n",
        "\n",
        "Qtd_Atrasos = (\n",
        "  p1\n",
        "  | \"Importar Dados\" >> beam.io.ReadFromText(\"voos_sample.csv\", skip_header_lines = 1)\n",
        "  | \"Separar por Vírgulas Qtd\" >> beam.Map(lambda record: record.split(','))\n",
        "  | \"Pegar voos com Qtd\" >> beam.ParDo(filtro())\n",
        "  | \"Criar par Qtd\" >> beam.Map(lambda record: (record[4],int(record[8])))\n",
        "  | \"Contar por key\" >> beam.combiners.Count.PerKey()\n",
        "#  | \"Mostrar Resultados QTD\" >> beam.Map(print)\n",
        ")\n",
        "\n",
        "tabela_atrasos = (\n",
        "    {'Qtd_Atrasos':Qtd_Atrasos,'Tempo_Atrasos':Tempo_Atrasos} \n",
        "    | \"Group By\" >> beam.CoGroupByKey()\n",
        "    | beam.Map(print)\n",
        ")\n",
        "\n",
        "p1.run()"
      ],
      "execution_count": 17,
      "outputs": [
        {
          "output_type": "stream",
          "name": "stderr",
          "text": [
            "WARNING:root:Make sure that locally built Python SDK docker image has Python 3.7 interpreter.\n"
          ]
        },
        {
          "output_type": "stream",
          "name": "stdout",
          "text": [
            "('LAX', {'Qtd_Atrasos': [4], 'Tempo_Atrasos': [92]})\n",
            "('HNL', {'Qtd_Atrasos': [1], 'Tempo_Atrasos': [15]})\n",
            "('DFW', {'Qtd_Atrasos': [1], 'Tempo_Atrasos': [95]})\n",
            "('OGG', {'Qtd_Atrasos': [1], 'Tempo_Atrasos': [138]})\n",
            "('JFK', {'Qtd_Atrasos': [4], 'Tempo_Atrasos': [220]})\n"
          ]
        },
        {
          "output_type": "execute_result",
          "data": {
            "text/plain": [
              "<apache_beam.runners.portability.fn_api_runner.fn_runner.RunnerResult at 0x7f0b39173dd0>"
            ]
          },
          "metadata": {},
          "execution_count": 17
        }
      ]
    }
  ]
}