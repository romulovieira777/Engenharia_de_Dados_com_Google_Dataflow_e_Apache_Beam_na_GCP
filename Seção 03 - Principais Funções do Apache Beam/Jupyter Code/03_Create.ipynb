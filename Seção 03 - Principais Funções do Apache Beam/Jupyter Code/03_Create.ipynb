{
  "nbformat": 4,
  "nbformat_minor": 0,
  "metadata": {
    "colab": {
      "name": "03 - Create.ipynb",
      "provenance": []
    },
    "kernelspec": {
      "name": "python3",
      "display_name": "Python 3"
    },
    "language_info": {
      "name": "python"
    }
  },
  "cells": [
    {
      "cell_type": "code",
      "metadata": {
        "id": "Zk7JG39rAqOl"
      },
      "source": [
        "pip install apache-beam[interactive]"
      ],
      "execution_count": null,
      "outputs": []
    },
    {
      "cell_type": "code",
      "metadata": {
        "colab": {
          "base_uri": "https://localhost:8080/"
        },
        "id": "WeiLpReGDz4G",
        "outputId": "3a9c8c59-24d1-4f4e-dadb-2a2fc701807e"
      },
      "source": [
        "import apache_beam as beam\n",
        "\n",
        "p1 = beam.Pipeline()\n",
        "\n",
        "p1 | \"Tupla\" >> beam.Create( [ (\"Cassio\", 32) , (\"Vics\", 21) ] ) | \"print Tupla\" >> beam.Map(print) #tupla\n",
        "p1 | \"Lista\" >> beam.Create ( [ 1, 2, 3 ] ) |  \"print Lista\" >> beam.Map(print) #lista\n",
        "\n",
        "p1.run()"
      ],
      "execution_count": 7,
      "outputs": [
        {
          "output_type": "stream",
          "name": "stderr",
          "text": [
            "WARNING:root:Make sure that locally built Python SDK docker image has Python 3.7 interpreter.\n"
          ]
        },
        {
          "output_type": "stream",
          "name": "stdout",
          "text": [
            "1\n",
            "2\n",
            "3\n"
          ]
        },
        {
          "output_type": "execute_result",
          "data": {
            "text/plain": [
              "<apache_beam.runners.portability.fn_api_runner.fn_runner.RunnerResult at 0x7f0b39a93650>"
            ]
          },
          "metadata": {},
          "execution_count": 7
        }
      ]
    }
  ]
}