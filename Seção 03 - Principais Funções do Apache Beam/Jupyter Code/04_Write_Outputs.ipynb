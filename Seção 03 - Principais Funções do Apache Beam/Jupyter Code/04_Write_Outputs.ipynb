{
  "nbformat": 4,
  "nbformat_minor": 0,
  "metadata": {
    "colab": {
      "name": "04 - Write Outputs.ipynb",
      "provenance": []
    },
    "kernelspec": {
      "name": "python3",
      "display_name": "Python 3"
    },
    "language_info": {
      "name": "python"
    }
  },
  "cells": [
    {
      "cell_type": "code",
      "metadata": {
        "id": "Zk7JG39rAqOl"
      },
      "source": [
        "pip install apache-beam[interactive]"
      ],
      "execution_count": null,
      "outputs": []
    },
    {
      "cell_type": "code",
      "metadata": {
        "id": "WeiLpReGDz4G"
      },
      "source": [
        "import apache_beam as beam\n",
        "\n",
        "p1 = beam.Pipeline()\n",
        "\n",
        "voos = (\n",
        "p1\n",
        "  | \"Importar Dados\" >> beam.io.ReadFromText(\"voos_sample.csv\", skip_header_lines = 1)\n",
        "  | \"Separar por Vírgulas\" >> beam.Map(lambda record: record.split(','))\n",
        "  | \"Mostrar Resultados\" >> beam.Map(print)\n",
        "  | \"Gravar Resultado\" >> beam.io.WriteToText(\"voos.txt\")\n",
        ")\n",
        "\n",
        "p1.run()"
      ],
      "execution_count": null,
      "outputs": []
    }
  ]
}