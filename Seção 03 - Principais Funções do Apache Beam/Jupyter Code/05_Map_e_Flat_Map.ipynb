{
  "nbformat": 4,
  "nbformat_minor": 0,
  "metadata": {
    "colab": {
      "name": "05 - Map e Flat Map.ipynb",
      "provenance": []
    },
    "kernelspec": {
      "name": "python3",
      "display_name": "Python 3"
    },
    "language_info": {
      "name": "python"
    }
  },
  "cells": [
    {
      "cell_type": "code",
      "metadata": {
        "id": "Zk7JG39rAqOl"
      },
      "source": [
        "pip install apache-beam[interactive]"
      ],
      "execution_count": null,
      "outputs": []
    },
    {
      "cell_type": "code",
      "metadata": {
        "colab": {
          "base_uri": "https://localhost:8080/"
        },
        "id": "WeiLpReGDz4G",
        "outputId": "bdcd30e7-e4b9-4c17-ac50-d8759d04dbbd"
      },
      "source": [
        "import apache_beam as beam\n",
        "\n",
        "p1 = beam.Pipeline()\n",
        "\n",
        "Collection = (\n",
        "    p1\n",
        "    |beam.io.ReadFromText('poema.txt')\n",
        "    |beam.FlatMap(lambda record: record.split(' '))\n",
        "    |beam.io.WriteToText('resultado.txt')\n",
        ")\n",
        "p1.run()"
      ],
      "execution_count": 10,
      "outputs": [
        {
          "output_type": "stream",
          "name": "stderr",
          "text": [
            "WARNING:root:Make sure that locally built Python SDK docker image has Python 3.7 interpreter.\n"
          ]
        },
        {
          "output_type": "execute_result",
          "data": {
            "text/plain": [
              "<apache_beam.runners.portability.fn_api_runner.fn_runner.RunnerResult at 0x7f0b39a52210>"
            ]
          },
          "metadata": {},
          "execution_count": 10
        }
      ]
    }
  ]
}